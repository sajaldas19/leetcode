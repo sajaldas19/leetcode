{
 "cells": [
  {
   "cell_type": "code",
   "execution_count": 1,
   "metadata": {},
   "outputs": [
    {
     "name": "stdout",
     "output_type": "stream",
     "text": [
      "hello world\n"
     ]
    }
   ],
   "source": [
    "print(\"hello world\")"
   ]
  },
  {
   "cell_type": "code",
   "execution_count": 8,
   "metadata": {},
   "outputs": [
    {
     "name": "stdout",
     "output_type": "stream",
     "text": [
      "5\n"
     ]
    }
   ],
   "source": [
    "h = {1: 5}\n",
    "\n",
    "if 1 in h:\n",
    "\tprint(h[1])"
   ]
  },
  {
   "cell_type": "code",
   "execution_count": 1,
   "metadata": {},
   "outputs": [
    {
     "ename": "SyntaxError",
     "evalue": "'return' outside function (Temp/ipykernel_22592/2132573544.py, line 11)",
     "output_type": "error",
     "traceback": [
      "\u001b[1;36m  File \u001b[1;32m\"C:\\Users\\sajal\\AppData\\Local\\Temp/ipykernel_22592/2132573544.py\"\u001b[1;36m, line \u001b[1;32m11\u001b[0m\n\u001b[1;33m    return hashdict[nums[i]], i\u001b[0m\n\u001b[1;37m    ^\u001b[0m\n\u001b[1;31mSyntaxError\u001b[0m\u001b[1;31m:\u001b[0m 'return' outside function\n"
     ]
    }
   ],
   "source": [
    "# 1. Two Sum\n",
    "\n",
    "# nums list\n",
    "# target\n",
    "\n",
    "hashdict = {}\n",
    "for i in range(len(nums)):\n",
    "    remain = target - nums[i]\n",
    "    \n",
    "    if nums[i] in hashdict:\n",
    "        return hashdict[nums[i]], i\n",
    "    else:\n",
    "        hashdict[remain] = i"
   ]
  },
  {
   "cell_type": "code",
   "execution_count": null,
   "metadata": {},
   "outputs": [],
   "source": [
    "# 9. Palindrome\n",
    "\n",
    "if x < 0:\n",
    "\treturn False\n",
    "\n",
    "rev_num = 0\n",
    "n = x\n",
    "while x!=0:\n",
    "\tr = x%10\n",
    "\trev_num = rev_num * 10 + r\n",
    "\tx = x//10\n",
    "\t\n",
    "\n",
    "if rev_num == n:\n",
    "\treturn True\n",
    "else:\n",
    "\treturn False"
   ]
  },
  {
   "cell_type": "code",
   "execution_count": null,
   "metadata": {},
   "outputs": [],
   "source": [
    "# 13. Roman to Integer\n",
    "\n",
    "roman = {'I': 1, 'V': 5, 'X': 10, 'L': 50, 'C': 100, 'D': 500, 'M': 1000}\n",
    "result = 0\n",
    "for i,c in enumerate(s):\n",
    "\tif i+1 < len(s) and roman[c] < roman[s[i+1]]:\n",
    "\t\tresult -= roman[c]\n",
    "\telse:\n",
    "\t\tresult += roman[c]\n",
    "\n",
    "#return result"
   ]
  },
  {
   "cell_type": "code",
   "execution_count": null,
   "metadata": {},
   "outputs": [],
   "source": [
    "# 14. Longest Common Prefix\n",
    "if len(strs) == 0:\n",
    "\treturn \"\"\n",
    "elif len(strs) == 1:\n",
    "\treturn strs[0]\n",
    "else:\n",
    "\tcommon = strs[0]\n",
    "\t\n",
    "\tfor word in strs[1:]:\n",
    "\t\tn_common = \"\"\n",
    "\t\tfor i,s in enumerate(common):\n",
    "\t\t\tif i < len(word) and s == word[i]:\n",
    "\t\t\t\tn_common += s\n",
    "\t\t\telse:\n",
    "\t\t\t\tbreak\n",
    "\t\tcommon = n_common\n",
    "\t\n",
    "\treturn common"
   ]
  },
  {
   "cell_type": "code",
   "execution_count": null,
   "metadata": {},
   "outputs": [],
   "source": [
    "## Medium\n",
    "## Add two numbers\n",
    "l1 = [9,9,9,9,9,9,9]\n",
    "l2 = [9,9,9,9]\n",
    "l3 = [] if len(l1) >= len(l2) else l2\n",
    "if l3 != []:\n",
    "\tl2 = l1\n",
    "\tl1 = l3\n",
    "\n",
    "sumList = []\n",
    "c = 0\n",
    "for i in range(len(l1)-1,-2,-1):\n",
    "\tif len(l2) < i: \n",
    "\t\td2 = 0\n",
    "\telse:\n",
    "\t\td2 = l2[i]\n",
    "\tif i >=0:\n",
    "\t\tsum = l1[i] + d2 + c\n",
    "\tif sum < 10:\n",
    "\t\tsumList.append(sum)\n",
    "\telif i <0:\n",
    "\t\tsumList.append(c)\n",
    "\telse:\n",
    "\t\tsumList.append(sum%10)\n",
    "\t\tc = 1\n",
    "\n",
    "print(sumList[::-1])\n"
   ]
  },
  {
   "cell_type": "code",
   "execution_count": 5,
   "metadata": {},
   "outputs": [
    {
     "name": "stdout",
     "output_type": "stream",
     "text": [
      "(\n",
      ")\n",
      "True\n"
     ]
    }
   ],
   "source": [
    "s = '()'\n",
    "b1 = 0 \n",
    "b2 = 0\n",
    "b3 = 0\n",
    "for i in s:\n",
    "\tprint(i)\n",
    "\tif '('==i:\n",
    "\t\tb1+=1\n",
    "\telif ')'==i and b1>0:\n",
    "\t\tb1-=1\n",
    "\telif '{'==i:\n",
    "\t\tb2+=1\n",
    "\telif '}'==i and b2>0:\n",
    "\t\tb2-=1\n",
    "\telif '['==i:\n",
    "\t\tb3+=1\n",
    "\telif ']'==i and b3>0:\n",
    "\t\tb3-=1\n",
    "\t\n",
    "if b1==0 and b2==0 and b3 == 0:\n",
    "\tprint(True)\n",
    "else:\n",
    "\tprint(False)"
   ]
  },
  {
   "cell_type": "code",
   "execution_count": 10,
   "metadata": {},
   "outputs": [
    {
     "name": "stdout",
     "output_type": "stream",
     "text": [
      "[1, 2, 4, 1, 3, 4]\n",
      "[1, 1, 2, 3, 4, 4]\n"
     ]
    }
   ],
   "source": [
    "l1 = [1,2,4]\n",
    "l2 = [1,3,4]\n",
    "\n",
    "l1.extend(l2)\n",
    "print(l1)\n",
    "l3 = l1.sort()\n",
    "print(l1)"
   ]
  },
  {
   "cell_type": "code",
   "execution_count": 19,
   "metadata": {},
   "outputs": [
    {
     "name": "stdout",
     "output_type": "stream",
     "text": [
      "w 2 2\n",
      "w 0 2\n",
      "k 1 2\n",
      "e 2 2\n",
      "w 3 3\n",
      "3\n"
     ]
    }
   ],
   "source": [
    "s= \"pwwkew\"\n",
    "output = 0\n",
    "count = 1\n",
    "for i in range(1,len(s)):\n",
    "\t\n",
    "\tif s[i] == s[i-1] or count>0 and s[i] == s[i-count] or count==0 and s[i]==s[i-output]:\n",
    "\t\toutput = count if count>output else output\n",
    "\t\tcount = 0\n",
    "\t\tprint(s[i], count,output)\n",
    "\telse:\n",
    "\t\tcount+=1\n",
    "\t\toutput = count if count>output else output\n",
    "\t\tprint(s[i], count,output)\n",
    "\n",
    "\n",
    "print(output)"
   ]
  },
  {
   "cell_type": "code",
   "execution_count": 1,
   "metadata": {},
   "outputs": [
    {
     "name": "stdout",
     "output_type": "stream",
     "text": [
      "[1, 2, 1, 1, 2, 1]\n"
     ]
    }
   ],
   "source": [
    "nums = [1,2,1]\n",
    "\n",
    "print(nums + nums)"
   ]
  },
  {
   "cell_type": "code",
   "execution_count": 3,
   "metadata": {},
   "outputs": [],
   "source": [
    "address = \"255.100.50.0\"\n",
    "\n",
    "ans = \"\"\n",
    "for i in address:\n",
    "\tif i==\".\":\n",
    "\t\tans+=\"[.]\"\n",
    "\telse:\n",
    "\t\tans+=i"
   ]
  },
  {
   "cell_type": "code",
   "execution_count": 4,
   "metadata": {},
   "outputs": [
    {
     "data": {
      "text/plain": [
       "'255[.]100[.]50[.]0'"
      ]
     },
     "execution_count": 4,
     "metadata": {},
     "output_type": "execute_result"
    }
   ],
   "source": [
    "ans"
   ]
  },
  {
   "cell_type": "code",
   "execution_count": 1,
   "metadata": {},
   "outputs": [],
   "source": [
    "nums = [8,1,2,2,3]\n",
    "nums_sort = sorted(nums)\n",
    "mapping = {}\n",
    "ans = []\n",
    "\n",
    "for i in range(len(nums_sort)):\n",
    "\tif nums_sort[i] not in mapping:\n",
    "\t\tmapping[nums_sort[i]] = i\n",
    "\n",
    "ans = [mapping[i] for i in nums]"
   ]
  },
  {
   "cell_type": "code",
   "execution_count": 3,
   "metadata": {},
   "outputs": [
    {
     "name": "stdout",
     "output_type": "stream",
     "text": [
      "12\n"
     ]
    }
   ],
   "source": [
    "num = 123\n",
    "count = 0\n",
    "\n",
    "while num!=0:\n",
    "\tif num%2 == 0:\n",
    "\t\tnum/=2\n",
    "\telse:\n",
    "\t\tnum-=1\n",
    "\tcount+=1\n",
    "\n",
    "print(count)"
   ]
  },
  {
   "cell_type": "code",
   "execution_count": 8,
   "metadata": {},
   "outputs": [
    {
     "name": "stdout",
     "output_type": "stream",
     "text": [
      "1111011\n",
      "12\n"
     ]
    }
   ],
   "source": [
    "num=123\n",
    "bitstring = bin(num)[2:] # [2:] will remove the '0b' that is prepended to each bitstring by bin()\n",
    "print(bitstring)\n",
    "print(len(bitstring) - 1 + bitstring.count('1'))"
   ]
  },
  {
   "cell_type": "code",
   "execution_count": 7,
   "metadata": {},
   "outputs": [
    {
     "name": "stdout",
     "output_type": "stream",
     "text": [
      "leetcode\n"
     ]
    }
   ],
   "source": [
    "s = \"codeleet\"\n",
    "indices = [4,5,6,7,0,2,1,3]\n",
    "ans = [\"\"] * len(s)\n",
    "for i, c in enumerate(s):\n",
    "\tans[indices[i]] = c\n",
    "\n",
    "print(''.join(ans))"
   ]
  },
  {
   "cell_type": "code",
   "execution_count": 6,
   "metadata": {},
   "outputs": [
    {
     "name": "stdout",
     "output_type": "stream",
     "text": [
      "3\n",
      "[[1, 0, 0], [0, 1, 0], [1, 1, 1]]\n"
     ]
    }
   ],
   "source": [
    "image = [[1,1,0],[1,0,1],[0,0,0]]\n",
    "print(len(image))\n",
    "ans = []\n",
    "for i in range(len(image)):\n",
    "\timage[i] = image[i][::-1]\n",
    "\tfor j in range(len(image)):\n",
    "\t\timage[i][j] = 1 ^ image[i][j]\n",
    "\n",
    "print(image)"
   ]
  },
  {
   "cell_type": "code",
   "execution_count": 18,
   "metadata": {},
   "outputs": [
    {
     "name": "stdout",
     "output_type": "stream",
     "text": [
      "s'teL ekat edoCteeL tsetnoc\n"
     ]
    }
   ],
   "source": [
    "s = \"Let's take LeetCode contest\"\n",
    "# ans = []\n",
    "# print(s.split())\n",
    "# for i in s.split(' '):\n",
    "# \tans.append(i[::-1])\n",
    "\t\n",
    "# (\" \").join(ans)\n",
    "print(' '.join(s.split()[::-1])[::-1])"
   ]
  },
  {
   "cell_type": "code",
   "execution_count": 5,
   "metadata": {},
   "outputs": [
    {
     "name": "stdout",
     "output_type": "stream",
     "text": [
      "[-1, 0, 1]\n",
      "[-1, 1]\n"
     ]
    }
   ],
   "source": [
    "n = 2\n",
    "print([i for i in range(-(n//2),n//2+1)])\n",
    "\n",
    "if n%2==0:\n",
    "\t[i for i in range(-(n//2),n//2+1) if i!=0]\n",
    "else:\n",
    "\t[i for i in range(-(n//2),n//2+1)]"
   ]
  },
  {
   "cell_type": "code",
   "execution_count": 25,
   "metadata": {},
   "outputs": [
    {
     "name": "stdout",
     "output_type": "stream",
     "text": [
      "d 1\n",
      "dv 2\n",
      "df 2\n",
      "2\n"
     ]
    }
   ],
   "source": [
    "output = 0\n",
    "count = 0\n",
    "substring = \"\"\n",
    "s = \"dvdf\"\n",
    "# for i in range(1,len(s)):\n",
    "# \tif s[i] == s[i-1] or count>0 and s[i] == s[i-count] or count==0 and s[i]==s[i-output]:\n",
    "# \t\toutput = count if count>output else output\n",
    "# \t\tcount = 0\n",
    "# \telse:\n",
    "# \t\tcount+=1\n",
    "# \t\toutput = count if count>output else output\n",
    "\n",
    "for i in s:\n",
    "\tif i not in substring:\n",
    "\t\tcount+=1\n",
    "\t\tsubstring+=i\n",
    "\t\tprint(substring, count)\n",
    "\telse:\n",
    "\t\tsubstring = i\n",
    "\t\toutput = count if count>output else output\n",
    "\t\tcount = 1\n",
    "print(output)"
   ]
  },
  {
   "cell_type": "code",
   "execution_count": 24,
   "metadata": {},
   "outputs": [],
   "source": [
    "#88. Merge Sorted Array\n",
    "#inputs:\n",
    "nums1 = [2,0]\n",
    "m = 1\n",
    "nums2 = [1]\n",
    "n = 1"
   ]
  },
  {
   "cell_type": "code",
   "execution_count": 26,
   "metadata": {},
   "outputs": [
    {
     "name": "stdout",
     "output_type": "stream",
     "text": [
      "[1, 2]\n"
     ]
    }
   ],
   "source": [
    "i = m-1\n",
    "j = n-1\n",
    "ii = m+n-1\n",
    "\n",
    "while j>=0:\n",
    "    if nums2[j] >= nums1[i] or i<0:\n",
    "        nums1[ii] = nums2[j]\n",
    "        j-=1\n",
    "    else:\n",
    "        nums1[ii] = nums1[i]\n",
    "        i-=1\n",
    "    ii-=1\n",
    "\n",
    "print(nums1)"
   ]
  },
  {
   "cell_type": "code",
   "execution_count": 20,
   "metadata": {},
   "outputs": [
    {
     "name": "stdout",
     "output_type": "stream",
     "text": [
      "0 0\n",
      "[1, None, None, None, None, None]\n",
      "1 0\n",
      "[1, 2, None, None, None, None]\n",
      "2 0\n",
      "[1, 2, 2, None, None, None]\n",
      "2 1\n",
      "[1, 2, 2, 3, None, None]\n",
      "3 1\n",
      "[1, 2, 2, 3, 5, None]\n",
      "3 2\n",
      "[1, 2, 2, 3, 5, 6]\n"
     ]
    }
   ],
   "source": [
    "i, j, ii = 0,0,0\n",
    "result = [None] * (m+n)\n",
    "while ii!=(m+n):\n",
    "    # n1 = nums1[i]\n",
    "    # n2 = nums2[j]\n",
    "    print(i,j)\n",
    "    if m==0:\n",
    "        nums1[ii] = nums2[ii]\n",
    "        ii+=1\n",
    "    elif n==0:\n",
    "        ii+=m+n\n",
    "    else:\n",
    "        if nums1[i]<=nums2[j] and i<m or j==n:\n",
    "            [ii] = nums1[i]\n",
    "            i+=1\n",
    "            ii+=1\n",
    "        elif nums1[i]>nums2[j] or i==m:\n",
    "            result[ii] = nums2[j]\n",
    "            j+=1\n",
    "            ii+=1\n",
    "\n",
    "# nums1 = result\n",
    "    \n",
    "    print(result)"
   ]
  },
  {
   "cell_type": "code",
   "execution_count": 3,
   "metadata": {},
   "outputs": [],
   "source": [
    "nums = [1,1,1,2,2,3]"
   ]
  },
  {
   "cell_type": "code",
   "execution_count": 5,
   "metadata": {},
   "outputs": [
    {
     "name": "stdout",
     "output_type": "stream",
     "text": [
      "5 [1, 1, 2, 2, 3, 3]\n"
     ]
    }
   ],
   "source": [
    "prev = nums[0]\n",
    "k = 1\n",
    "n = 1\n",
    "for i in range(1,len(nums)):\n",
    "\tif nums[i] == prev and n<2:\n",
    "\t\tnums[k] = prev\n",
    "\t\tk+=1\n",
    "\t\tn+=1\n",
    "\telif nums[i] != prev:\n",
    "\t\tprev = nums[i]\n",
    "\t\tnums[k] = nums[i]\n",
    "\t\tn = 1\n",
    "\t\tk+=1\n",
    "print(k, nums)\n",
    "# return k"
   ]
  },
  {
   "cell_type": "code",
   "execution_count": 6,
   "metadata": {},
   "outputs": [
    {
     "name": "stdout",
     "output_type": "stream",
     "text": [
      "2\n"
     ]
    }
   ],
   "source": [
    "nums = [2,2,1,1,1,2,2]\n",
    "n = len(nums)\n",
    "me_i = 0\n",
    "count = 1\n",
    "\n",
    "for i in range(1, n):\n",
    "\tif nums[me_i] == nums[i]:\n",
    "\t\tcount+=1\n",
    "\telse:\n",
    "\t\tcount-=1\n",
    "\tif count==0:\n",
    "\t\tme_i = i\n",
    "\t\tcount = 1\n",
    "\n",
    "print(nums[me_i])"
   ]
  },
  {
   "cell_type": "code",
   "execution_count": 1,
   "metadata": {},
   "outputs": [],
   "source": [
    "# 189 Rotate Array\n",
    "nums = [1,2,3,4,5,6,7]\n",
    "k = 3"
   ]
  },
  {
   "cell_type": "code",
   "execution_count": 16,
   "metadata": {},
   "outputs": [
    {
     "name": "stdout",
     "output_type": "stream",
     "text": [
      "0 3 4\n",
      "[5, 1, 2, 3, 7, 6, 7]\n",
      "1 4 5\n",
      "[5, 6, 2, 3, 1, 7, 7]\n",
      "2 5 6\n",
      "[5, 6, 7, 3, 1, 2, 7]\n",
      "3 6 7\n"
     ]
    },
    {
     "ename": "IndexError",
     "evalue": "list index out of range",
     "output_type": "error",
     "traceback": [
      "\u001b[1;31m---------------------------------------------------------------------------\u001b[0m",
      "\u001b[1;31mIndexError\u001b[0m                                Traceback (most recent call last)",
      "Cell \u001b[1;32mIn[16], line 13\u001b[0m\n\u001b[0;32m     11\u001b[0m \u001b[38;5;28mprint\u001b[39m(i,j,i\u001b[38;5;241m+\u001b[39mdiff)\n\u001b[0;32m     12\u001b[0m \u001b[38;5;66;03m# print(nums)\u001b[39;00m\n\u001b[1;32m---> 13\u001b[0m nums[i] \u001b[38;5;241m=\u001b[39m \u001b[43mnums\u001b[49m\u001b[43m[\u001b[49m\u001b[43mi\u001b[49m\u001b[38;5;241;43m+\u001b[39;49m\u001b[43mdiff\u001b[49m\u001b[43m]\u001b[49m\n\u001b[0;32m     14\u001b[0m nums[i\u001b[38;5;241m+\u001b[39mdiff] \u001b[38;5;241m=\u001b[39m num\n\u001b[0;32m     15\u001b[0m \u001b[38;5;66;03m# print(i, nums[i], '--', i+diff, nums[i+diff])\u001b[39;00m\n",
      "\u001b[1;31mIndexError\u001b[0m: list index out of range"
     ]
    }
   ],
   "source": [
    "n = len(nums)\n",
    "diff = n-k\n",
    "j = k\n",
    "\n",
    "for i in range(n):\n",
    "\t# r = nums[i+diff]\n",
    "\t# print(r,i,i+diff-1)\n",
    "\tif j<n:\n",
    "\t\tnum = nums[j]\n",
    "\t\tnums[j] = nums[i]\n",
    "\t\tprint(i,j,i+diff)\n",
    "\t\t# print(nums)\n",
    "\t\tnums[i] = nums[i+diff]\n",
    "\t\tnums[i+diff] = num\n",
    "\t\t# print(i, nums[i], '--', i+diff, nums[i+diff])\n",
    "\t\tj+=1\n",
    "\t\tprint(nums)\n",
    "print(nums)"
   ]
  },
  {
   "cell_type": "code",
   "execution_count": 16,
   "metadata": {},
   "outputs": [
    {
     "name": "stdout",
     "output_type": "stream",
     "text": [
      "0 3 6\n",
      "1 4 0\n",
      "2 5 1\n",
      "3 6 2\n",
      "4 0 3\n",
      "5 1 4\n",
      "6 2 5\n"
     ]
    }
   ],
   "source": [
    "n = len(nums)\n",
    "\n",
    "for i in range(n):\n",
    "    print(i, (i+k) % n, (i+k+k) % n)\n",
    "    i2 = (i+k) % n\n",
    "    i3 = (i+k+k) % n\n",
    "    num2 = nums[i2]\n",
    "    nums[i2] = nums[i]\n",
    "    nums[i3] = num2\n",
    "    \n",
    "    "
   ]
  },
  {
   "cell_type": "code",
   "execution_count": 1,
   "metadata": {},
   "outputs": [
    {
     "name": "stdout",
     "output_type": "stream",
     "text": [
      "\"\",\n",
      "\"class Solution:\",\n",
      "\"\tdef solution(self, nums, k):\",\n",
      "\"\",\n",
      "\"\t\treturn nums\",\n",
      "\"\",\n",
      "\"def main():\",\n",
      "\"    input_lines = sys.stdin.readlines()\",\n",
      "\"    num_vars = 1 # Number of variables in a test case\",\n",
      "\"\",\n",
      "\"    # Process each test case\",\n",
      "\"    results = []\",\n",
      "\"    for i in range(0, len(input_lines), num_vars):\",\n",
      "\"        list1 = input_lines[i].strip()\",\n",
      "\"        # For list input\",\n",
      "\"        list1 = list1[1:-1].split(',') \t# String to a list of strings\",\n",
      "\"        list1 = [int(num) for num in list1] \t# Convert list of strings to list of integers\",\n",
      "\"\",\n",
      "\"        # For Solution class\",\n",
      "\"        solution = Solution()\",\n",
      "\"        result = solution.solution(list1) \t# Change the function and the parameter\",\n",
      "\"        results.append(result)\",\n",
      "\"\",\n",
      "\"    for result in results:\",\n",
      "\"        print(result)\",\n",
      "\"\",\n",
      "\"\",\n",
      "\"if __name__ == '__main__':\",\n",
      "\"    main()\",\n",
      "\"\",\n"
     ]
    }
   ],
   "source": [
    "s = \"\"\"\n",
    "class Solution:\n",
    "\tdef solution(self, nums, k):\n",
    "\n",
    "\t\treturn nums\n",
    "\n",
    "def main():\n",
    "    input_lines = sys.stdin.readlines()\n",
    "    num_vars = 1 # Number of variables in a test case\n",
    "\n",
    "    # Process each test case\n",
    "    results = []\n",
    "    for i in range(0, len(input_lines), num_vars):\n",
    "        list1 = input_lines[i].strip()\n",
    "        # For list input\n",
    "        list1 = list1[1:-1].split(',') \t# String to a list of strings\n",
    "        list1 = [int(num) for num in list1] \t# Convert list of strings to list of integers\n",
    "\n",
    "        # For Solution class\n",
    "        solution = Solution()\n",
    "        result = solution.solution(list1) \t# Change the function and the parameter\n",
    "        results.append(result)\n",
    "\n",
    "    for result in results:\n",
    "        print(result)\n",
    "\n",
    "\n",
    "if __name__ == '__main__':\n",
    "    main()\n",
    "\"\"\"\n",
    "ss= s.split(\"\\n\")\n",
    "# print(ss)\n",
    "\n",
    "for i in ss:\n",
    "\tprint('\"'+i+'\"', end=\",\\n\")"
   ]
  },
  {
   "cell_type": "code",
   "execution_count": 17,
   "metadata": {},
   "outputs": [
    {
     "data": {
      "text/plain": [
       "1"
      ]
     },
     "execution_count": 17,
     "metadata": {},
     "output_type": "execute_result"
    }
   ],
   "source": [
    "5%2"
   ]
  },
  {
   "cell_type": "code",
   "execution_count": null,
   "metadata": {},
   "outputs": [],
   "source": []
  }
 ],
 "metadata": {
  "kernelspec": {
   "display_name": "base",
   "language": "python",
   "name": "python3"
  },
  "language_info": {
   "codemirror_mode": {
    "name": "ipython",
    "version": 3
   },
   "file_extension": ".py",
   "mimetype": "text/x-python",
   "name": "python",
   "nbconvert_exporter": "python",
   "pygments_lexer": "ipython3",
   "version": "3.12.2"
  },
  "orig_nbformat": 4,
  "vscode": {
   "interpreter": {
    "hash": "bc5c8107e9b9f584c67bdb35b448e63767bd7fdb4fdaa02efc50757b45f9e013"
   }
  }
 },
 "nbformat": 4,
 "nbformat_minor": 2
}
